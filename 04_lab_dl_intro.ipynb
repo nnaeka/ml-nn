{
  "cells": [
    {
      "cell_type": "markdown",
      "id": "bc9520d2",
      "metadata": {
        "id": "bc9520d2"
      },
      "source": [
        "# Лабораторная работа №4\n",
        "\n",
        "ФИО: Глушан Генрих Константинович\n",
        "Группа: БИВТ-21-3\n",
        "\n",
        "Отправлять можно следующими способами:\n",
        "1. Запушить этот ноутбук в GitHub в репозиторий, где у вас лежат ноутбуки с лабами\n",
        "\n",
        "Deadlines:\n",
        "- Занятие №8 в семестре (Занятие №4 очное)\n",
        "\n",
        "Что необходимо сделать:  \n",
        "- Обучить различные модели глубокого обучения на имеющихся данных  \n",
        "\n",
        "---\n",
        "## Читайте задание внимательно\n",
        "\n",
        "Исходные данные:\n",
        "1. В [табличке](https://docs.google.com/spreadsheets/d/11600OkqdRzxc-xZmFTuBs099VeAqU_GlE0Bx6bBlIRE/edit?usp=sharing) необходимо узнать название своего датасета\n",
        "2. Скачать нужны вам данные можно в [Google Drive](https://drive.google.com/drive/folders/1Phm-Fq1GL-VX7NS-DCEMRh_Fo1wU7DQ9?usp=sharing)\n",
        "  \n",
        "---\n",
        "Теперь по пунктам, что я от вас жду:  \n",
        "1. Загрузить необходимые данные к себе и считать (read) их в переменную.\n",
        "2. Понять, у вас задача классификации (бинарной или многоклассовой) или регрессии.\n",
        "3. Сделать предобработку данных:  \n",
        "     1. Разделить выборку на тренировочную (train) и тестовую (test). _Обратите внимание, что обучать скейлеры и определять, какими значениями вы будете заполнять пропуски, вы будете на train выборке, а применять и на train, и на test_.\n",
        "     2. Проверить пропуски в данных. Если они есть, заполнить одной из стратегий, предложенных в ноутбуке для семинара №3. P.S. Для численных и категориальных переменных будут разные стратегии.\n",
        "     3. Отнормировать численные переменные (`StandardScaler`, `MinMaxScaler`).\n",
        "     4. Закодировать категориальные признаки по одной из стратегий.\n",
        "4. Оформить данные в виде класса `Dataset` из библиотеки `torch` (как мы это делали на семинаре), а затем засунуть в `Dataloader` (тоже делали на семинаре).\n",
        "5. Обучить на тренировочном множестве:\n",
        "     1. Очень простую однослойную нейросеть с оптимизатором `SGD` ([link](https://pytorch.org/docs/stable/optim.html)).\n",
        "     2. Нейросеть посложнее (с 1 скрытым слоем) с оптимизатором `Adam` ([link](https://pytorch.org/docs/stable/optim.html)).\n",
        "     3. Нейросеть еще сложнее (с 3+ скрытыми слоями) с оптимизатором `Adam` ([link](https://pytorch.org/docs/stable/optim.html)).\n",
        "6. Посчитайте loss на train и test множествах, в зависимости от эпохи обучения. Провизуализируйте это с помощью библиотеки `matplotlib` (выйдет так называемая **learning curve**, кривая обучения модели).\n",
        "6. Посчитайте метрики на train и test множествах:\n",
        "     1. Для задачи классификации -- Accuracy\n",
        "     2. Для задачи регрессии -- MAE\n",
        "7. Сравните метрики относительно train/test, так и относительно разных моделей. Ответьте на следующие вопросы:\n",
        "     1. Какая модель справилась лучше с поставленной задачей?\n",
        "     2. Имеет ли место переобучение?\n",
        "     3. Имеет ли место недообучение?\n",
        "     4. Как можно улучшить метрики моделей?\n",
        "\n",
        "---\n",
        "P.S.  \n",
        "Просьба -- делать каждое задание в отдельных ячейках и с отдельными заголовками (как пункт 1 и 2 в этом ноутбуке) типа  \n",
        "- Заголовок\n",
        "- Ячейки с кодом\n",
        "- Другой заголовок\n",
        "- Другие ячейки с кодом\n",
        "\n",
        "P.S.S.  \n",
        "Если вам повезло с многоклассовой классификацией, у вас не будет проблем, просто нужно будет поставить необходимое количество нейронов на выходе вашей нейросети."
      ]
    },
    {
      "cell_type": "markdown",
      "id": "28b51062",
      "metadata": {
        "id": "28b51062"
      },
      "source": [
        "## 1. Загрузить необходимые данные к себе и считать (read) их в переменную."
      ]
    },
    {
      "cell_type": "code",
      "execution_count": 62,
      "id": "406597a7",
      "metadata": {
        "colab": {
          "base_uri": "https://localhost:8080/",
          "height": 781
        },
        "id": "406597a7",
        "outputId": "a9bd5a4d-df4b-4a6d-e005-95feb4b75d70"
      },
      "outputs": [
        {
          "output_type": "stream",
          "name": "stdout",
          "text": [
            "<class 'pandas.core.frame.DataFrame'>\n",
            "RangeIndex: 19158 entries, 0 to 19157\n",
            "Data columns (total 13 columns):\n",
            " #   Column                  Non-Null Count  Dtype  \n",
            "---  ------                  --------------  -----  \n",
            " 0   city                    19158 non-null  object \n",
            " 1   city_development_index  19158 non-null  float64\n",
            " 2   gender                  14650 non-null  object \n",
            " 3   relevent_experience     19158 non-null  object \n",
            " 4   enrolled_university     18772 non-null  object \n",
            " 5   education_level         18698 non-null  object \n",
            " 6   major_discipline        16345 non-null  object \n",
            " 7   experience              19093 non-null  object \n",
            " 8   company_size            13220 non-null  object \n",
            " 9   company_type            13018 non-null  object \n",
            " 10  last_new_job            18735 non-null  object \n",
            " 11  training_hours          19158 non-null  int64  \n",
            " 12  target                  19158 non-null  float64\n",
            "dtypes: float64(2), int64(1), object(10)\n",
            "memory usage: 1.9+ MB\n",
            "None\n",
            "       city_development_index  training_hours        target\n",
            "count            19158.000000    19158.000000  19158.000000\n",
            "mean                 0.828848       65.366896      0.249348\n",
            "std                  0.123362       60.058462      0.432647\n",
            "min                  0.448000        1.000000      0.000000\n",
            "25%                  0.740000       23.000000      0.000000\n",
            "50%                  0.903000       47.000000      0.000000\n",
            "75%                  0.920000       88.000000      0.000000\n",
            "max                  0.949000      336.000000      1.000000\n"
          ]
        },
        {
          "output_type": "execute_result",
          "data": {
            "text/plain": [
              "       city  city_development_index gender      relevent_experience  \\\n",
              "0  city_103                   0.920   Male  Has relevent experience   \n",
              "1   city_40                   0.776   Male   No relevent experience   \n",
              "2   city_21                   0.624    NaN   No relevent experience   \n",
              "3  city_115                   0.789    NaN   No relevent experience   \n",
              "4  city_162                   0.767   Male  Has relevent experience   \n",
              "\n",
              "  enrolled_university education_level major_discipline experience  \\\n",
              "0       no_enrollment        Graduate             STEM        >20   \n",
              "1       no_enrollment        Graduate             STEM         15   \n",
              "2    Full time course        Graduate             STEM          5   \n",
              "3                 NaN        Graduate  Business Degree         <1   \n",
              "4       no_enrollment         Masters             STEM        >20   \n",
              "\n",
              "  company_size    company_type last_new_job  training_hours  target  \n",
              "0          NaN             NaN            1              36     1.0  \n",
              "1        50-99         Pvt Ltd           >4              47     0.0  \n",
              "2          NaN             NaN        never              83     0.0  \n",
              "3          NaN         Pvt Ltd        never              52     1.0  \n",
              "4        50-99  Funded Startup            4               8     0.0  "
            ],
            "text/html": [
              "\n",
              "  <div id=\"df-98b6a340-7c3d-4819-a332-e23c5a77d579\" class=\"colab-df-container\">\n",
              "    <div>\n",
              "<style scoped>\n",
              "    .dataframe tbody tr th:only-of-type {\n",
              "        vertical-align: middle;\n",
              "    }\n",
              "\n",
              "    .dataframe tbody tr th {\n",
              "        vertical-align: top;\n",
              "    }\n",
              "\n",
              "    .dataframe thead th {\n",
              "        text-align: right;\n",
              "    }\n",
              "</style>\n",
              "<table border=\"1\" class=\"dataframe\">\n",
              "  <thead>\n",
              "    <tr style=\"text-align: right;\">\n",
              "      <th></th>\n",
              "      <th>city</th>\n",
              "      <th>city_development_index</th>\n",
              "      <th>gender</th>\n",
              "      <th>relevent_experience</th>\n",
              "      <th>enrolled_university</th>\n",
              "      <th>education_level</th>\n",
              "      <th>major_discipline</th>\n",
              "      <th>experience</th>\n",
              "      <th>company_size</th>\n",
              "      <th>company_type</th>\n",
              "      <th>last_new_job</th>\n",
              "      <th>training_hours</th>\n",
              "      <th>target</th>\n",
              "    </tr>\n",
              "  </thead>\n",
              "  <tbody>\n",
              "    <tr>\n",
              "      <th>0</th>\n",
              "      <td>city_103</td>\n",
              "      <td>0.920</td>\n",
              "      <td>Male</td>\n",
              "      <td>Has relevent experience</td>\n",
              "      <td>no_enrollment</td>\n",
              "      <td>Graduate</td>\n",
              "      <td>STEM</td>\n",
              "      <td>&gt;20</td>\n",
              "      <td>NaN</td>\n",
              "      <td>NaN</td>\n",
              "      <td>1</td>\n",
              "      <td>36</td>\n",
              "      <td>1.0</td>\n",
              "    </tr>\n",
              "    <tr>\n",
              "      <th>1</th>\n",
              "      <td>city_40</td>\n",
              "      <td>0.776</td>\n",
              "      <td>Male</td>\n",
              "      <td>No relevent experience</td>\n",
              "      <td>no_enrollment</td>\n",
              "      <td>Graduate</td>\n",
              "      <td>STEM</td>\n",
              "      <td>15</td>\n",
              "      <td>50-99</td>\n",
              "      <td>Pvt Ltd</td>\n",
              "      <td>&gt;4</td>\n",
              "      <td>47</td>\n",
              "      <td>0.0</td>\n",
              "    </tr>\n",
              "    <tr>\n",
              "      <th>2</th>\n",
              "      <td>city_21</td>\n",
              "      <td>0.624</td>\n",
              "      <td>NaN</td>\n",
              "      <td>No relevent experience</td>\n",
              "      <td>Full time course</td>\n",
              "      <td>Graduate</td>\n",
              "      <td>STEM</td>\n",
              "      <td>5</td>\n",
              "      <td>NaN</td>\n",
              "      <td>NaN</td>\n",
              "      <td>never</td>\n",
              "      <td>83</td>\n",
              "      <td>0.0</td>\n",
              "    </tr>\n",
              "    <tr>\n",
              "      <th>3</th>\n",
              "      <td>city_115</td>\n",
              "      <td>0.789</td>\n",
              "      <td>NaN</td>\n",
              "      <td>No relevent experience</td>\n",
              "      <td>NaN</td>\n",
              "      <td>Graduate</td>\n",
              "      <td>Business Degree</td>\n",
              "      <td>&lt;1</td>\n",
              "      <td>NaN</td>\n",
              "      <td>Pvt Ltd</td>\n",
              "      <td>never</td>\n",
              "      <td>52</td>\n",
              "      <td>1.0</td>\n",
              "    </tr>\n",
              "    <tr>\n",
              "      <th>4</th>\n",
              "      <td>city_162</td>\n",
              "      <td>0.767</td>\n",
              "      <td>Male</td>\n",
              "      <td>Has relevent experience</td>\n",
              "      <td>no_enrollment</td>\n",
              "      <td>Masters</td>\n",
              "      <td>STEM</td>\n",
              "      <td>&gt;20</td>\n",
              "      <td>50-99</td>\n",
              "      <td>Funded Startup</td>\n",
              "      <td>4</td>\n",
              "      <td>8</td>\n",
              "      <td>0.0</td>\n",
              "    </tr>\n",
              "  </tbody>\n",
              "</table>\n",
              "</div>\n",
              "    <div class=\"colab-df-buttons\">\n",
              "\n",
              "  <div class=\"colab-df-container\">\n",
              "    <button class=\"colab-df-convert\" onclick=\"convertToInteractive('df-98b6a340-7c3d-4819-a332-e23c5a77d579')\"\n",
              "            title=\"Convert this dataframe to an interactive table.\"\n",
              "            style=\"display:none;\">\n",
              "\n",
              "  <svg xmlns=\"http://www.w3.org/2000/svg\" height=\"24px\" viewBox=\"0 -960 960 960\">\n",
              "    <path d=\"M120-120v-720h720v720H120Zm60-500h600v-160H180v160Zm220 220h160v-160H400v160Zm0 220h160v-160H400v160ZM180-400h160v-160H180v160Zm440 0h160v-160H620v160ZM180-180h160v-160H180v160Zm440 0h160v-160H620v160Z\"/>\n",
              "  </svg>\n",
              "    </button>\n",
              "\n",
              "  <style>\n",
              "    .colab-df-container {\n",
              "      display:flex;\n",
              "      gap: 12px;\n",
              "    }\n",
              "\n",
              "    .colab-df-convert {\n",
              "      background-color: #E8F0FE;\n",
              "      border: none;\n",
              "      border-radius: 50%;\n",
              "      cursor: pointer;\n",
              "      display: none;\n",
              "      fill: #1967D2;\n",
              "      height: 32px;\n",
              "      padding: 0 0 0 0;\n",
              "      width: 32px;\n",
              "    }\n",
              "\n",
              "    .colab-df-convert:hover {\n",
              "      background-color: #E2EBFA;\n",
              "      box-shadow: 0px 1px 2px rgba(60, 64, 67, 0.3), 0px 1px 3px 1px rgba(60, 64, 67, 0.15);\n",
              "      fill: #174EA6;\n",
              "    }\n",
              "\n",
              "    .colab-df-buttons div {\n",
              "      margin-bottom: 4px;\n",
              "    }\n",
              "\n",
              "    [theme=dark] .colab-df-convert {\n",
              "      background-color: #3B4455;\n",
              "      fill: #D2E3FC;\n",
              "    }\n",
              "\n",
              "    [theme=dark] .colab-df-convert:hover {\n",
              "      background-color: #434B5C;\n",
              "      box-shadow: 0px 1px 3px 1px rgba(0, 0, 0, 0.15);\n",
              "      filter: drop-shadow(0px 1px 2px rgba(0, 0, 0, 0.3));\n",
              "      fill: #FFFFFF;\n",
              "    }\n",
              "  </style>\n",
              "\n",
              "    <script>\n",
              "      const buttonEl =\n",
              "        document.querySelector('#df-98b6a340-7c3d-4819-a332-e23c5a77d579 button.colab-df-convert');\n",
              "      buttonEl.style.display =\n",
              "        google.colab.kernel.accessAllowed ? 'block' : 'none';\n",
              "\n",
              "      async function convertToInteractive(key) {\n",
              "        const element = document.querySelector('#df-98b6a340-7c3d-4819-a332-e23c5a77d579');\n",
              "        const dataTable =\n",
              "          await google.colab.kernel.invokeFunction('convertToInteractive',\n",
              "                                                    [key], {});\n",
              "        if (!dataTable) return;\n",
              "\n",
              "        const docLinkHtml = 'Like what you see? Visit the ' +\n",
              "          '<a target=\"_blank\" href=https://colab.research.google.com/notebooks/data_table.ipynb>data table notebook</a>'\n",
              "          + ' to learn more about interactive tables.';\n",
              "        element.innerHTML = '';\n",
              "        dataTable['output_type'] = 'display_data';\n",
              "        await google.colab.output.renderOutput(dataTable, element);\n",
              "        const docLink = document.createElement('div');\n",
              "        docLink.innerHTML = docLinkHtml;\n",
              "        element.appendChild(docLink);\n",
              "      }\n",
              "    </script>\n",
              "  </div>\n",
              "\n",
              "\n",
              "<div id=\"df-873d4dc8-1913-48e3-8f2f-8b6a996a3993\">\n",
              "  <button class=\"colab-df-quickchart\" onclick=\"quickchart('df-873d4dc8-1913-48e3-8f2f-8b6a996a3993')\"\n",
              "            title=\"Suggest charts\"\n",
              "            style=\"display:none;\">\n",
              "\n",
              "<svg xmlns=\"http://www.w3.org/2000/svg\" height=\"24px\"viewBox=\"0 0 24 24\"\n",
              "     width=\"24px\">\n",
              "    <g>\n",
              "        <path d=\"M19 3H5c-1.1 0-2 .9-2 2v14c0 1.1.9 2 2 2h14c1.1 0 2-.9 2-2V5c0-1.1-.9-2-2-2zM9 17H7v-7h2v7zm4 0h-2V7h2v10zm4 0h-2v-4h2v4z\"/>\n",
              "    </g>\n",
              "</svg>\n",
              "  </button>\n",
              "\n",
              "<style>\n",
              "  .colab-df-quickchart {\n",
              "      --bg-color: #E8F0FE;\n",
              "      --fill-color: #1967D2;\n",
              "      --hover-bg-color: #E2EBFA;\n",
              "      --hover-fill-color: #174EA6;\n",
              "      --disabled-fill-color: #AAA;\n",
              "      --disabled-bg-color: #DDD;\n",
              "  }\n",
              "\n",
              "  [theme=dark] .colab-df-quickchart {\n",
              "      --bg-color: #3B4455;\n",
              "      --fill-color: #D2E3FC;\n",
              "      --hover-bg-color: #434B5C;\n",
              "      --hover-fill-color: #FFFFFF;\n",
              "      --disabled-bg-color: #3B4455;\n",
              "      --disabled-fill-color: #666;\n",
              "  }\n",
              "\n",
              "  .colab-df-quickchart {\n",
              "    background-color: var(--bg-color);\n",
              "    border: none;\n",
              "    border-radius: 50%;\n",
              "    cursor: pointer;\n",
              "    display: none;\n",
              "    fill: var(--fill-color);\n",
              "    height: 32px;\n",
              "    padding: 0;\n",
              "    width: 32px;\n",
              "  }\n",
              "\n",
              "  .colab-df-quickchart:hover {\n",
              "    background-color: var(--hover-bg-color);\n",
              "    box-shadow: 0 1px 2px rgba(60, 64, 67, 0.3), 0 1px 3px 1px rgba(60, 64, 67, 0.15);\n",
              "    fill: var(--button-hover-fill-color);\n",
              "  }\n",
              "\n",
              "  .colab-df-quickchart-complete:disabled,\n",
              "  .colab-df-quickchart-complete:disabled:hover {\n",
              "    background-color: var(--disabled-bg-color);\n",
              "    fill: var(--disabled-fill-color);\n",
              "    box-shadow: none;\n",
              "  }\n",
              "\n",
              "  .colab-df-spinner {\n",
              "    border: 2px solid var(--fill-color);\n",
              "    border-color: transparent;\n",
              "    border-bottom-color: var(--fill-color);\n",
              "    animation:\n",
              "      spin 1s steps(1) infinite;\n",
              "  }\n",
              "\n",
              "  @keyframes spin {\n",
              "    0% {\n",
              "      border-color: transparent;\n",
              "      border-bottom-color: var(--fill-color);\n",
              "      border-left-color: var(--fill-color);\n",
              "    }\n",
              "    20% {\n",
              "      border-color: transparent;\n",
              "      border-left-color: var(--fill-color);\n",
              "      border-top-color: var(--fill-color);\n",
              "    }\n",
              "    30% {\n",
              "      border-color: transparent;\n",
              "      border-left-color: var(--fill-color);\n",
              "      border-top-color: var(--fill-color);\n",
              "      border-right-color: var(--fill-color);\n",
              "    }\n",
              "    40% {\n",
              "      border-color: transparent;\n",
              "      border-right-color: var(--fill-color);\n",
              "      border-top-color: var(--fill-color);\n",
              "    }\n",
              "    60% {\n",
              "      border-color: transparent;\n",
              "      border-right-color: var(--fill-color);\n",
              "    }\n",
              "    80% {\n",
              "      border-color: transparent;\n",
              "      border-right-color: var(--fill-color);\n",
              "      border-bottom-color: var(--fill-color);\n",
              "    }\n",
              "    90% {\n",
              "      border-color: transparent;\n",
              "      border-bottom-color: var(--fill-color);\n",
              "    }\n",
              "  }\n",
              "</style>\n",
              "\n",
              "  <script>\n",
              "    async function quickchart(key) {\n",
              "      const quickchartButtonEl =\n",
              "        document.querySelector('#' + key + ' button');\n",
              "      quickchartButtonEl.disabled = true;  // To prevent multiple clicks.\n",
              "      quickchartButtonEl.classList.add('colab-df-spinner');\n",
              "      try {\n",
              "        const charts = await google.colab.kernel.invokeFunction(\n",
              "            'suggestCharts', [key], {});\n",
              "      } catch (error) {\n",
              "        console.error('Error during call to suggestCharts:', error);\n",
              "      }\n",
              "      quickchartButtonEl.classList.remove('colab-df-spinner');\n",
              "      quickchartButtonEl.classList.add('colab-df-quickchart-complete');\n",
              "    }\n",
              "    (() => {\n",
              "      let quickchartButtonEl =\n",
              "        document.querySelector('#df-873d4dc8-1913-48e3-8f2f-8b6a996a3993 button');\n",
              "      quickchartButtonEl.style.display =\n",
              "        google.colab.kernel.accessAllowed ? 'block' : 'none';\n",
              "    })();\n",
              "  </script>\n",
              "</div>\n",
              "    </div>\n",
              "  </div>\n"
            ],
            "application/vnd.google.colaboratory.intrinsic+json": {
              "type": "dataframe",
              "variable_name": "train_data",
              "summary": "{\n  \"name\": \"train_data\",\n  \"rows\": 19158,\n  \"fields\": [\n    {\n      \"column\": \"city\",\n      \"properties\": {\n        \"dtype\": \"category\",\n        \"num_unique_values\": 123,\n        \"samples\": [\n          \"city_64\",\n          \"city_70\",\n          \"city_94\"\n        ],\n        \"semantic_type\": \"\",\n        \"description\": \"\"\n      }\n    },\n    {\n      \"column\": \"city_development_index\",\n      \"properties\": {\n        \"dtype\": \"number\",\n        \"std\": 0.12336175686054494,\n        \"min\": 0.4479999999999999,\n        \"max\": 0.949,\n        \"num_unique_values\": 93,\n        \"samples\": [\n          0.775,\n          0.939,\n          0.738\n        ],\n        \"semantic_type\": \"\",\n        \"description\": \"\"\n      }\n    },\n    {\n      \"column\": \"gender\",\n      \"properties\": {\n        \"dtype\": \"category\",\n        \"num_unique_values\": 3,\n        \"samples\": [\n          \"Male\",\n          \"Female\",\n          \"Other\"\n        ],\n        \"semantic_type\": \"\",\n        \"description\": \"\"\n      }\n    },\n    {\n      \"column\": \"relevent_experience\",\n      \"properties\": {\n        \"dtype\": \"category\",\n        \"num_unique_values\": 2,\n        \"samples\": [\n          \"No relevent experience\",\n          \"Has relevent experience\"\n        ],\n        \"semantic_type\": \"\",\n        \"description\": \"\"\n      }\n    },\n    {\n      \"column\": \"enrolled_university\",\n      \"properties\": {\n        \"dtype\": \"category\",\n        \"num_unique_values\": 3,\n        \"samples\": [\n          \"no_enrollment\",\n          \"Full time course\"\n        ],\n        \"semantic_type\": \"\",\n        \"description\": \"\"\n      }\n    },\n    {\n      \"column\": \"education_level\",\n      \"properties\": {\n        \"dtype\": \"category\",\n        \"num_unique_values\": 5,\n        \"samples\": [\n          \"Masters\",\n          \"Primary School\"\n        ],\n        \"semantic_type\": \"\",\n        \"description\": \"\"\n      }\n    },\n    {\n      \"column\": \"major_discipline\",\n      \"properties\": {\n        \"dtype\": \"category\",\n        \"num_unique_values\": 6,\n        \"samples\": [\n          \"STEM\",\n          \"Business Degree\"\n        ],\n        \"semantic_type\": \"\",\n        \"description\": \"\"\n      }\n    },\n    {\n      \"column\": \"experience\",\n      \"properties\": {\n        \"dtype\": \"category\",\n        \"num_unique_values\": 22,\n        \"samples\": [\n          \">20\",\n          \"14\"\n        ],\n        \"semantic_type\": \"\",\n        \"description\": \"\"\n      }\n    },\n    {\n      \"column\": \"company_size\",\n      \"properties\": {\n        \"dtype\": \"category\",\n        \"num_unique_values\": 8,\n        \"samples\": [\n          \"<10\",\n          \"10/49\"\n        ],\n        \"semantic_type\": \"\",\n        \"description\": \"\"\n      }\n    },\n    {\n      \"column\": \"company_type\",\n      \"properties\": {\n        \"dtype\": \"category\",\n        \"num_unique_values\": 6,\n        \"samples\": [\n          \"Pvt Ltd\",\n          \"Funded Startup\"\n        ],\n        \"semantic_type\": \"\",\n        \"description\": \"\"\n      }\n    },\n    {\n      \"column\": \"last_new_job\",\n      \"properties\": {\n        \"dtype\": \"category\",\n        \"num_unique_values\": 6,\n        \"samples\": [\n          \"1\",\n          \">4\"\n        ],\n        \"semantic_type\": \"\",\n        \"description\": \"\"\n      }\n    },\n    {\n      \"column\": \"training_hours\",\n      \"properties\": {\n        \"dtype\": \"number\",\n        \"std\": 60,\n        \"min\": 1,\n        \"max\": 336,\n        \"num_unique_values\": 241,\n        \"samples\": [\n          40,\n          18\n        ],\n        \"semantic_type\": \"\",\n        \"description\": \"\"\n      }\n    },\n    {\n      \"column\": \"target\",\n      \"properties\": {\n        \"dtype\": \"number\",\n        \"std\": 0.4326466344562528,\n        \"min\": 0.0,\n        \"max\": 1.0,\n        \"num_unique_values\": 2,\n        \"samples\": [\n          0.0,\n          1.0\n        ],\n        \"semantic_type\": \"\",\n        \"description\": \"\"\n      }\n    }\n  ]\n}"
            }
          },
          "metadata": {},
          "execution_count": 62
        }
      ],
      "source": [
        "import pandas as pd\n",
        "\n",
        "train_data = pd.read_csv('aug_train.csv')\n",
        "train_data.drop(columns=['enrollee_id'], inplace=True)\n",
        "\n",
        "print(train_data.info())\n",
        "print(train_data.describe())\n",
        "train_data.head()"
      ]
    },
    {
      "cell_type": "markdown",
      "id": "0d119028",
      "metadata": {
        "id": "0d119028"
      },
      "source": [
        "## 2. Понять, у вас задача классификации (бинарной или многоклассовой) или регрессии"
      ]
    },
    {
      "cell_type": "code",
      "source": [
        "target_column = 'target'\n",
        "unique_values = train_data[target_column].unique()\n",
        "print(unique_values)\n",
        "\n",
        "if len(unique_values) > 20 and train_data[target_column].dtype in ['int64', 'float64']:\n",
        "    task_type = 'regression'\n",
        "elif len(unique_values) == 2:\n",
        "    task_type = 'binary classification'\n",
        "else:\n",
        "    task_type = 'multiclass classification'\n",
        "\n",
        "print(f'Task type: {task_type}')"
      ],
      "metadata": {
        "colab": {
          "base_uri": "https://localhost:8080/"
        },
        "id": "v-ILPZsTJeHA",
        "outputId": "68fce4d7-88b7-4da1-df81-56b8cec80d79"
      },
      "id": "v-ILPZsTJeHA",
      "execution_count": 63,
      "outputs": [
        {
          "output_type": "stream",
          "name": "stdout",
          "text": [
            "[1. 0.]\n",
            "Task type: binary classification\n"
          ]
        }
      ]
    },
    {
      "cell_type": "markdown",
      "id": "34931f43",
      "metadata": {
        "id": "34931f43"
      },
      "source": [
        "## 3. Делаем предобработку данных"
      ]
    },
    {
      "cell_type": "markdown",
      "source": [
        "Данные изначально уже разделены на train и test."
      ],
      "metadata": {
        "id": "_fqh5mkzRaoq"
      },
      "id": "_fqh5mkzRaoq"
    },
    {
      "cell_type": "code",
      "source": [
        "missing_values = train_data.isnull().sum()\n",
        "print(missing_values)"
      ],
      "metadata": {
        "colab": {
          "base_uri": "https://localhost:8080/"
        },
        "id": "P8elg_vReduh",
        "outputId": "ee388e2a-0471-4356-e60e-219df4d66063"
      },
      "id": "P8elg_vReduh",
      "execution_count": 64,
      "outputs": [
        {
          "output_type": "stream",
          "name": "stdout",
          "text": [
            "city                         0\n",
            "city_development_index       0\n",
            "gender                    4508\n",
            "relevent_experience          0\n",
            "enrolled_university        386\n",
            "education_level            460\n",
            "major_discipline          2813\n",
            "experience                  65\n",
            "company_size              5938\n",
            "company_type              6140\n",
            "last_new_job               423\n",
            "training_hours               0\n",
            "target                       0\n",
            "dtype: int64\n"
          ]
        }
      ]
    },
    {
      "cell_type": "code",
      "source": [
        "categorical_columns = train_data.select_dtypes(include=['object']).columns\n",
        "train_data[categorical_columns] = train_data[categorical_columns].fillna(\"Unknown\")\n",
        "\n",
        "print(train_data.isnull().sum())"
      ],
      "metadata": {
        "colab": {
          "base_uri": "https://localhost:8080/"
        },
        "id": "bzIo5cWyiaX9",
        "outputId": "2966a8af-84ab-42de-c356-7d5a91353a06"
      },
      "id": "bzIo5cWyiaX9",
      "execution_count": 65,
      "outputs": [
        {
          "output_type": "stream",
          "name": "stdout",
          "text": [
            "city                      0\n",
            "city_development_index    0\n",
            "gender                    0\n",
            "relevent_experience       0\n",
            "enrolled_university       0\n",
            "education_level           0\n",
            "major_discipline          0\n",
            "experience                0\n",
            "company_size              0\n",
            "company_type              0\n",
            "last_new_job              0\n",
            "training_hours            0\n",
            "target                    0\n",
            "dtype: int64\n"
          ]
        }
      ]
    },
    {
      "cell_type": "code",
      "source": [
        "from sklearn.preprocessing import StandardScaler\n",
        "\n",
        "numerical_columns = ['city_development_index', 'training_hours']\n",
        "\n",
        "scaler = StandardScaler()\n",
        "train_data[numerical_columns] = scaler.fit_transform(train_data[numerical_columns])\n",
        "\n",
        "print(train_data.head())"
      ],
      "metadata": {
        "colab": {
          "base_uri": "https://localhost:8080/"
        },
        "id": "fnFew_fqq-wl",
        "outputId": "6dd29337-2d27-4382-d7e2-3a163fb3d17b"
      },
      "id": "fnFew_fqq-wl",
      "execution_count": 66,
      "outputs": [
        {
          "output_type": "stream",
          "name": "stdout",
          "text": [
            "       city  city_development_index   gender      relevent_experience  \\\n",
            "0  city_103                0.738919     Male  Has relevent experience   \n",
            "1   city_40               -0.428410     Male   No relevent experience   \n",
            "2   city_21               -1.660590  Unknown   No relevent experience   \n",
            "3  city_115               -0.323026  Unknown   No relevent experience   \n",
            "4  city_162               -0.501368     Male  Has relevent experience   \n",
            "\n",
            "  enrolled_university education_level major_discipline experience  \\\n",
            "0       no_enrollment        Graduate             STEM        >20   \n",
            "1       no_enrollment        Graduate             STEM         15   \n",
            "2    Full time course        Graduate             STEM          5   \n",
            "3             Unknown        Graduate  Business Degree         <1   \n",
            "4       no_enrollment         Masters             STEM        >20   \n",
            "\n",
            "  company_size    company_type last_new_job  training_hours  target  \n",
            "0      Unknown         Unknown            1       -0.488985     1.0  \n",
            "1        50-99         Pvt Ltd           >4       -0.305825     0.0  \n",
            "2      Unknown         Unknown        never        0.293607     0.0  \n",
            "3      Unknown         Pvt Ltd        never       -0.222571     1.0  \n",
            "4        50-99  Funded Startup            4       -0.955209     0.0  \n"
          ]
        }
      ]
    },
    {
      "cell_type": "code",
      "source": [
        "categorical_columns = train_data.select_dtypes(include=['object']).columns\n",
        "\n",
        "for col in categorical_columns:\n",
        "    freq_encoding = train_data[col].value_counts() / len(train_data)\n",
        "    train_data[col] = train_data[col].map(freq_encoding)\n",
        "\n",
        "print(train_data.head())"
      ],
      "metadata": {
        "colab": {
          "base_uri": "https://localhost:8080/"
        },
        "id": "BPrMnR7Q0qLO",
        "outputId": "1f77f5ec-cd65-4527-c949-523957a7fd04"
      },
      "id": "BPrMnR7Q0qLO",
      "execution_count": 67,
      "outputs": [
        {
          "output_type": "stream",
          "name": "stdout",
          "text": [
            "       city  city_development_index    gender  relevent_experience  \\\n",
            "0  0.227320                0.738919  0.690103             0.719908   \n",
            "1  0.003549               -0.428410  0.690103             0.280092   \n",
            "2  0.141038               -1.660590  0.235306             0.280092   \n",
            "3  0.002819               -0.323026  0.235306             0.280092   \n",
            "4  0.006681               -0.501368  0.690103             0.719908   \n",
            "\n",
            "   enrolled_university  education_level  major_discipline  experience  \\\n",
            "0             0.721213         0.605387          0.756446    0.171521   \n",
            "1             0.721213         0.605387          0.756446    0.035807   \n",
            "2             0.196106         0.605387          0.756446    0.074642   \n",
            "3             0.020148         0.605387          0.017069    0.027247   \n",
            "4             0.721213         0.227633          0.756446    0.171521   \n",
            "\n",
            "   company_size  company_type  last_new_job  training_hours  target  \n",
            "0      0.309949      0.320493      0.419668       -0.488985     1.0  \n",
            "1      0.160925      0.512423      0.171730       -0.305825     0.0  \n",
            "2      0.309949      0.320493      0.127988        0.293607     0.0  \n",
            "3      0.309949      0.512423      0.127988       -0.222571     1.0  \n",
            "4      0.160925      0.052250      0.053711       -0.955209     0.0  \n"
          ]
        }
      ]
    },
    {
      "cell_type": "markdown",
      "source": [
        "##4. Оформить данные в виде класса `Dataset` из библиотеки `torch` (как мы это делали на семинаре), а затем засунуть в `Dataloader` (тоже делали на семинаре)."
      ],
      "metadata": {
        "id": "OIeXu3vTs7VZ"
      },
      "id": "OIeXu3vTs7VZ"
    },
    {
      "cell_type": "code",
      "source": [
        "from sklearn.model_selection import train_test_split\n",
        "\n",
        "train_df, test_df = train_test_split(train_data, test_size=0.2, random_state=42)\n",
        "\n",
        "class HRDataset(Dataset):\n",
        "    def __init__(self, data):\n",
        "        self.X = data.drop(columns=['target']).values\n",
        "        self.y = data['target'].values\n",
        "\n",
        "    def __len__(self):\n",
        "        return len(self.y)\n",
        "\n",
        "    def __getitem__(self, idx):\n",
        "        return torch.tensor(self.X[idx], dtype=torch.float32), torch.tensor(self.y[idx], dtype=torch.long)\n",
        "\n",
        "train_dataset = HRDataset(train_df)\n",
        "test_dataset = HRDataset(test_df)\n",
        "\n",
        "train_loader = DataLoader(train_dataset, batch_size=32, shuffle=True)\n",
        "test_loader = DataLoader(test_dataset, batch_size=32, shuffle=False)"
      ],
      "metadata": {
        "id": "VLbRSPZnoSdy"
      },
      "id": "VLbRSPZnoSdy",
      "execution_count": 68,
      "outputs": []
    },
    {
      "cell_type": "markdown",
      "source": [
        "##5. Обучить на тренировочном множестве:"
      ],
      "metadata": {
        "id": "R4pJNadXtHCF"
      },
      "id": "R4pJNadXtHCF"
    },
    {
      "cell_type": "code",
      "source": [
        "import torch.nn as nn\n",
        "import torch.optim as optim\n",
        "import matplotlib.pyplot as plt\n",
        "from sklearn.metrics import accuracy_score\n",
        "\n",
        "# Функция для обучения модели\n",
        "def train_model(model, optimizer, criterion, train_loader, num_epochs):\n",
        "    model.train()\n",
        "    train_losses = []\n",
        "    for epoch in range(num_epochs):\n",
        "        total_loss = 0\n",
        "        for inputs, labels in train_loader:\n",
        "            optimizer.zero_grad()\n",
        "            outputs = model(inputs)\n",
        "            loss = criterion(outputs, labels)\n",
        "            loss.backward()\n",
        "            optimizer.step()\n",
        "            total_loss += loss.item()\n",
        "        avg_loss = total_loss / len(train_loader)\n",
        "        train_losses.append(avg_loss)\n",
        "    return train_losses\n",
        "\n",
        "# Функция для оценки модели\n",
        "def evaluate_model(model, data_loader):\n",
        "    model.eval()\n",
        "    all_preds = []\n",
        "    all_labels = []\n",
        "    with torch.no_grad():\n",
        "        for inputs, labels in data_loader:\n",
        "            outputs = model(inputs)\n",
        "            _, preds = torch.max(outputs, 1)\n",
        "            all_preds.extend(preds.numpy())\n",
        "            all_labels.extend(labels.numpy())\n",
        "    return accuracy_score(all_labels, all_preds)\n",
        "\n",
        "# Определение моделей\n",
        "class SimpleNN(nn.Module):\n",
        "    def __init__(self, input_dim):\n",
        "        super(SimpleNN, self).__init__()\n",
        "        self.fc = nn.Linear(input_dim, 2)\n",
        "\n",
        "    def forward(self, x):\n",
        "        return self.fc(x)\n",
        "\n",
        "class IntermediateNN(nn.Module):\n",
        "    def __init__(self, input_dim):\n",
        "        super(IntermediateNN, self).__init__()\n",
        "        self.fc1 = nn.Linear(input_dim, 64)\n",
        "        self.fc2 = nn.Linear(64, 2)\n",
        "\n",
        "    def forward(self, x):\n",
        "        x = torch.relu(self.fc1(x))\n",
        "        return self.fc2(x)\n",
        "\n",
        "class ComplexNN(nn.Module):\n",
        "    def __init__(self, input_dim):\n",
        "        super(ComplexNN, self).__init__()\n",
        "        self.fc1 = nn.Linear(input_dim, 128)\n",
        "        self.fc2 = nn.Linear(128, 64)\n",
        "        self.fc3 = nn.Linear(64, 32)\n",
        "        self.fc4 = nn.Linear(32, 2)\n",
        "\n",
        "    def forward(self, x):\n",
        "        x = torch.relu(self.fc1(x))\n",
        "        x = torch.relu(self.fc2(x))\n",
        "        x = torch.relu(self.fc3(x))\n",
        "        return self.fc4(x)\n",
        "\n",
        "input_dim = train_df.shape[1] - 1\n",
        "num_epochs = 50\n",
        "\n",
        "simple_model = SimpleNN(input_dim)\n",
        "criterion = nn.CrossEntropyLoss()\n",
        "optimizer = optim.SGD(simple_model.parameters(), lr=0.01)\n",
        "simple_train_losses = train_model(simple_model, optimizer, criterion, train_loader, num_epochs)\n",
        "\n",
        "intermediate_model = IntermediateNN(input_dim)\n",
        "optimizer = optim.Adam(intermediate_model.parameters(), lr=0.001)\n",
        "intermediate_train_losses = train_model(intermediate_model, optimizer, criterion, train_loader, num_epochs)\n",
        "\n",
        "complex_model = ComplexNN(input_dim)\n",
        "optimizer = optim.Adam(complex_model.parameters(), lr=0.001)\n",
        "complex_train_losses = train_model(complex_model, optimizer, criterion, train_loader, num_epochs)\n"
      ],
      "metadata": {
        "id": "BWAE9JgQoWCE"
      },
      "id": "BWAE9JgQoWCE",
      "execution_count": 69,
      "outputs": []
    },
    {
      "cell_type": "markdown",
      "source": [
        "##6. Посчитайте loss на train и test множествах, в зависимости от эпохи обучения. Провизуализируйте это с помощью библиотеки `matplotlib` (выйдет так называемая **learning curve**, кривая обучения модели)."
      ],
      "metadata": {
        "id": "XMHgtQ3NtHk3"
      },
      "id": "XMHgtQ3NtHk3"
    },
    {
      "cell_type": "code",
      "source": [
        "train_accuracy_simple = evaluate_model(simple_model, train_loader)\n",
        "test_accuracy_simple = evaluate_model(simple_model, test_loader)\n",
        "\n",
        "train_accuracy_intermediate = evaluate_model(intermediate_model, train_loader)\n",
        "test_accuracy_intermediate = evaluate_model(intermediate_model, test_loader)\n",
        "\n",
        "train_accuracy_complex = evaluate_model(complex_model, train_loader)\n",
        "test_accuracy_complex = evaluate_model(complex_model, test_loader)\n",
        "\n",
        "plt.plot(simple_train_losses, label='Simple NN')\n",
        "plt.plot(intermediate_train_losses, label='Intermediate NN')\n",
        "plt.plot(complex_train_losses, label='Complex NN')\n",
        "plt.xlabel('Epoch')\n",
        "plt.ylabel('Loss')\n",
        "plt.legend()\n",
        "plt.show()"
      ],
      "metadata": {
        "colab": {
          "base_uri": "https://localhost:8080/",
          "height": 449
        },
        "id": "_xfYCrjdrUL5",
        "outputId": "6f1bf4c2-015e-44af-c778-a4162cbbc7c0"
      },
      "id": "_xfYCrjdrUL5",
      "execution_count": 70,
      "outputs": [
        {
          "output_type": "display_data",
          "data": {
            "text/plain": [
              "<Figure size 640x480 with 1 Axes>"
            ],
            "image/png": "[encoded data removed]"
          },
          "metadata": {}
        }
      ]
    },
    {
      "cell_type": "markdown",
      "source": [
        "##7. Посчитайте метрики на train и test множествах:"
      ],
      "metadata": {
        "id": "E6Gwc2p6iYkP"
      },
      "id": "E6Gwc2p6iYkP"
    },
    {
      "cell_type": "code",
      "source": [
        "print(f\"Simple NN : Train Accuracy: {train_accuracy_simple}, Test Accuracy: {test_accuracy_simple}, Разница: {train_accuracy_simple - test_accuracy_simple}\")\n",
        "print(f\"Intermediate NN : Train Accuracy: {train_accuracy_intermediate}, Test Accuracy: {test_accuracy_intermediate}, Разница: {train_accuracy_intermediate - test_accuracy_intermediate}\")\n",
        "print(f\"Complex NN : Train Accuracy: {train_accuracy_complex}, Test Accuracy: {test_accuracy_complex}, Разница: {train_accuracy_intermediate - test_accuracy_intermediate}\")"
      ],
      "metadata": {
        "colab": {
          "base_uri": "https://localhost:8080/"
        },
        "id": "csPsRzX-rRBN",
        "outputId": "bcafdf0b-747c-411b-9847-77d5ca32440e"
      },
      "id": "csPsRzX-rRBN",
      "execution_count": 73,
      "outputs": [
        {
          "output_type": "stream",
          "name": "stdout",
          "text": [
            "Simple NN : Train Accuracy: 0.7707164295967637, Test Accuracy: 0.7680062630480167, Разница: 0.002710166548747006\n",
            "Intermediate NN : Train Accuracy: 0.7988385749706381, Test Accuracy: 0.787839248434238, Разница: 0.010999326536400122\n",
            "Complex NN : Train Accuracy: 0.8101918308756362, Test Accuracy: 0.7917536534446764, Разница: 0.010999326536400122\n"
          ]
        }
      ]
    },
    {
      "cell_type": "markdown",
      "source": [
        "##8. Сравните метрики относительно train/test, так и относительно разных моделей. Ответьте на следующие вопросы:"
      ],
      "metadata": {
        "id": "Ao3WF8iDirrX"
      },
      "id": "Ao3WF8iDirrX"
    },
    {
      "cell_type": "markdown",
      "source": [
        "1. Лучше остальных справилась Complex NN, тк наименьшая разница точности между train и test\n",
        "\n",
        "2. Intermediate NN и Complex NN разница 1%, значит наблюдается небольшое переобучение.\n",
        "\n",
        "3. Simple NN недообучена по сравнению с более сложными моделями.\n",
        "\n",
        "4. Добавление регуляризации, подбор гиперпараметров"
      ],
      "metadata": {
        "id": "KbXbgIJJ2KEh"
      },
      "id": "KbXbgIJJ2KEh"
    }
  ],
  "metadata": {
    "kernelspec": {
      "display_name": "nn-ml-bachelor-2024-venv",
      "language": "python",
      "name": "nn-ml-bachelor-2024-venv"
    },
    "language_info": {
      "codemirror_mode": {
        "name": "ipython",
        "version": 3
      },
      "file_extension": ".py",
      "mimetype": "text/x-python",
      "name": "python",
      "nbconvert_exporter": "python",
      "pygments_lexer": "ipython3",
      "version": "3.9.6"
    },
    "colab": {
      "provenance": []
    }
  },
  "nbformat": 4,
  "nbformat_minor": 5
}